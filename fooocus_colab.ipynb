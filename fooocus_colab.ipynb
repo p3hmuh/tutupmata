{
  "nbformat": 4,
  "nbformat_minor": 0,
  "metadata": {
    "colab": {
      "provenance": [],
      "authorship_tag": "ABX9TyMbgQWFivtL/8nPa4qpW71I",
      "include_colab_link": true
    },
    "kernelspec": {
      "name": "python3",
      "display_name": "Python 3"
    },
    "language_info": {
      "name": "python"
    }
  },
  "cells": [
    {
      "cell_type": "markdown",
      "metadata": {
        "id": "view-in-github",
        "colab_type": "text"
      },
      "source": [
        "<a href=\"https://colab.research.google.com/github/p3hmuh/tutupmata/blob/main/fooocus_colab.ipynb\" target=\"_parent\"><img src=\"https://colab.research.google.com/assets/colab-badge.svg\" alt=\"Open In Colab\"/></a>"
      ]
    },
    {
      "cell_type": "code",
      "execution_count": null,
      "metadata": {
        "id": "NtHUyKgwFCiV"
      },
      "outputs": [],
      "source": [
        "# @title Setup and Install Dependencies\n",
        "!pip install -q torch==2.0.1 torchvision==0.15.2 torchaudio==2.0.2\n",
        "!pip install -q xformers==0.0.20 triton==2.0.0\n",
        "\n",
        "# Clone repository\n",
        "!git clone https://github.com/p3hmuh/Fooocus-Colab\n",
        "%cd Fooocus-Colab\n",
        "\n",
        "# Install requirements\n",
        "!pip install -r requirements.txt\n",
        "\n",
        "# Setup dan konfigurasi lainnya"
      ]
    }
  ]
}